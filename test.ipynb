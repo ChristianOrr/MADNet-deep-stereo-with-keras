{
 "cells": [
  {
   "cell_type": "code",
   "execution_count": 19,
   "metadata": {},
   "outputs": [],
   "source": [
    "import os\n",
    "import random\n",
    "import tensorflow as tf\n",
    "import keras\n",
    "from keras import backend\n",
    "from keras.utils import get_file\n",
    "from keras.utils import get_source_inputs\n",
    "from tensorflow.keras.utils import unpack_x_y_sample_weight\n",
    "from keras import layers\n",
    "import numpy as np\n",
    "from matplotlib import cm"
   ]
  },
  {
   "cell_type": "code",
   "execution_count": 32,
   "metadata": {},
   "outputs": [
    {
     "ename": "FileNotFoundError",
     "evalue": "[Errno 2] No such file or directory: 'D:/datasets/kitti_2015_and_2012/training/left'",
     "output_type": "error",
     "traceback": [
      "\u001b[0;31m---------------------------------------------------------------------------\u001b[0m",
      "\u001b[0;31mFileNotFoundError\u001b[0m                         Traceback (most recent call last)",
      "Cell \u001b[0;32mIn[32], line 3\u001b[0m\n\u001b[1;32m      1\u001b[0m left_dir \u001b[38;5;241m=\u001b[39m \u001b[38;5;124m\"\u001b[39m\u001b[38;5;124mD:/datasets/kitti_2015_and_2012/training/left\u001b[39m\u001b[38;5;124m\"\u001b[39m\n\u001b[0;32m----> 3\u001b[0m \u001b[43mos\u001b[49m\u001b[38;5;241;43m.\u001b[39;49m\u001b[43mlistdir\u001b[49m\u001b[43m(\u001b[49m\u001b[43mleft_dir\u001b[49m\u001b[43m)\u001b[49m\n",
      "\u001b[0;31mFileNotFoundError\u001b[0m: [Errno 2] No such file or directory: 'D:/datasets/kitti_2015_and_2012/training/left'"
     ]
    }
   ],
   "source": [
    "left_dir = \"D:/datasets/kitti_2015_and_2012/training/left\"\n",
    "\n",
    "os.listdir(left_dir)"
   ]
  },
  {
   "cell_type": "code",
   "execution_count": 44,
   "metadata": {},
   "outputs": [
    {
     "data": {
      "text/plain": [
       "True"
      ]
     },
     "execution_count": 44,
     "metadata": {},
     "output_type": "execute_result"
    }
   ],
   "source": [
    "os.path.exists(\"/home/ubuntu24/datasets/kitti_2015_and_2012/training/left\")"
   ]
  },
  {
   "cell_type": "code",
   "execution_count": 26,
   "metadata": {},
   "outputs": [],
   "source": [
    "def bilinear_sampler(imgs, coords):\n",
    "    \"\"\"\n",
    "    Construct a new image by bilinear sampling from the input image.\n",
    "    Points falling outside the source image boundary have value 0.\n",
    "    Args:\n",
    "        imgs: source image to be sampled from [batch, height_s, width_s, channels]\n",
    "        coords: coordinates of source pixels to sample from [batch, height_t,width_t, 2].\n",
    "                height_t/width_t correspond to the dimensions of the output image\n",
    "                (don't need to be the same as height_s/width_s). The two channels\n",
    "                correspond to x and y coordinates respectively.\n",
    "    Returns:\n",
    "        A new sampled image [batch, height_t, width_t, channels]\n",
    "    \"\"\"\n",
    "\n",
    "    def _repeat(x, n_repeats):\n",
    "        rep = keras.ops.transpose(\n",
    "            keras.ops.expand_dims(keras.ops.ones(shape=keras.ops.stack([\n",
    "                n_repeats,\n",
    "            ])), 1), [1, 0])\n",
    "        rep = keras.ops.cast(rep, 'float32')\n",
    "        x = keras.ops.matmul(keras.ops.reshape(x, (-1, 1)), rep)\n",
    "        return keras.ops.reshape(x, [-1])\n",
    "\n",
    "    coords_x, coords_y = keras.ops.split(coords, 2, axis=3)\n",
    "    inp_size = keras.ops.shape(imgs)\n",
    "    coord_size = keras.ops.shape(coords)\n",
    "    out_size = [coord_size[0], coord_size[1], coord_size[2], inp_size[3]]\n",
    "\n",
    "    coords_x = keras.ops.cast(coords_x, 'float32')\n",
    "    coords_y = keras.ops.cast(coords_y, 'float32')\n",
    "\n",
    "    x0 = keras.ops.floor(coords_x)\n",
    "    x1 = x0 + 1\n",
    "    y0 = keras.ops.floor(coords_y)\n",
    "    y1 = y0 + 1\n",
    "\n",
    "    y_max = keras.ops.cast(inp_size[1] - 1, 'float32')\n",
    "    x_max = keras.ops.cast(inp_size[2] - 1, 'float32')\n",
    "    zero = keras.ops.zeros([1], dtype='float32')\n",
    "\n",
    "    wt_x0 = x1 - coords_x\n",
    "    wt_x1 = coords_x - x0\n",
    "    wt_y0 = y1 - coords_y\n",
    "    wt_y1 = coords_y - y0\n",
    "\n",
    "    x0_safe = keras.ops.clip(x0, zero[0], x_max)\n",
    "    y0_safe = keras.ops.clip(y0, zero[0], y_max)\n",
    "    x1_safe = keras.ops.clip(x1, zero[0], x_max)\n",
    "    y1_safe = keras.ops.clip(y1, zero[0], y_max)\n",
    "\n",
    "    ## indices in the flat image to sample from\n",
    "    dim2 = keras.ops.cast(inp_size[2], 'float32')\n",
    "    dim1 = keras.ops.cast(inp_size[2] * inp_size[1], 'float32')\n",
    "    base = keras.ops.reshape(\n",
    "        _repeat(keras.ops.cast(keras.ops.arange(coord_size[0]), 'float32') * dim1, coord_size[1] * coord_size[2]),\n",
    "        [out_size[0], out_size[1], out_size[2], 1]\n",
    "    )\n",
    "\n",
    "    base_y0 = base + y0_safe * dim2\n",
    "    base_y1 = base + y1_safe * dim2\n",
    "    idx00 = x0_safe + base_y0\n",
    "    idx01 = x0_safe + base_y1\n",
    "    idx10 = x1_safe + base_y0\n",
    "    idx11 = x1_safe + base_y1\n",
    "\n",
    "    ## sample from imgs\n",
    "    im00 = keras.ops.take(imgs, keras.ops.cast(idx00, 'int32'))\n",
    "    im01 = keras.ops.take(imgs, keras.ops.cast(idx01, 'int32'))\n",
    "    im10 = keras.ops.take(imgs, keras.ops.cast(idx10, 'int32'))\n",
    "    im11 = keras.ops.take(imgs, keras.ops.cast(idx11, 'int32'))\n",
    "\n",
    "    w00 = wt_x0 * wt_y0\n",
    "    w01 = wt_x0 * wt_y1\n",
    "    w10 = wt_x1 * wt_y0\n",
    "    w11 = wt_x1 * wt_y1\n",
    "\n",
    "    output = keras.ops.add(\n",
    "        keras.ops.add(w00 * im00, w01 * im01),\n",
    "        keras.ops.add(w10 * im10, w11 * im11)\n",
    "    )\n",
    "\n",
    "    return output"
   ]
  },
  {
   "cell_type": "code",
   "execution_count": 14,
   "metadata": {},
   "outputs": [],
   "source": [
    "class BilinearSampler(keras.layers.Layer):\n",
    "\n",
    "    def __init__(self):\n",
    "        super(BilinearSampler, self).__init__()\n",
    "\n",
    "    def _repeat(self, x, n_repeats):\n",
    "        rep = keras.ops.transpose(\n",
    "            keras.ops.expand_dims(keras.ops.ones(shape=keras.ops.stack([\n",
    "                n_repeats,\n",
    "            ])), 1), [1, 0])\n",
    "        rep = keras.ops.cast(rep, 'float32')\n",
    "        x = keras.ops.matmul(keras.ops.reshape(x, (-1, 1)), rep)\n",
    "        return keras.ops.reshape(x, [-1])\n",
    "\n",
    "    def call(self, imgs, coords):\n",
    "        coords_x, coords_y = keras.ops.split(coords, 2, axis=3)\n",
    "        inp_size = keras.ops.shape(imgs)\n",
    "        coord_size = keras.ops.shape(coords)\n",
    "        out_size = [coord_size[0], coord_size[1], coord_size[2], inp_size[3]]\n",
    "\n",
    "        coords_x = keras.ops.cast(coords_x, 'float32')\n",
    "        coords_y = keras.ops.cast(coords_y, 'float32')\n",
    "\n",
    "        x0 = keras.ops.floor(coords_x)\n",
    "        x1 = x0 + 1\n",
    "        y0 = keras.ops.floor(coords_y)\n",
    "        y1 = y0 + 1\n",
    "\n",
    "        y_max = keras.ops.cast(inp_size[1] - 1, 'float32')\n",
    "        x_max = keras.ops.cast(inp_size[2] - 1, 'float32')\n",
    "        zero = keras.ops.zeros([1], dtype='float32')\n",
    "\n",
    "        wt_x0 = x1 - coords_x\n",
    "        wt_x1 = coords_x - x0\n",
    "        wt_y0 = y1 - coords_y\n",
    "        wt_y1 = coords_y - y0\n",
    "\n",
    "        x0_safe = keras.ops.clip(x0, zero[0], x_max)\n",
    "        y0_safe = keras.ops.clip(y0, zero[0], y_max)\n",
    "        x1_safe = keras.ops.clip(x1, zero[0], x_max)\n",
    "        y1_safe = keras.ops.clip(y1, zero[0], y_max)\n",
    "\n",
    "        ## indices in the flat image to sample from\n",
    "        dim2 = keras.ops.cast(inp_size[2], 'float32')\n",
    "        dim1 = keras.ops.cast(inp_size[2] * inp_size[1], 'float32')\n",
    "        base = keras.ops.reshape(\n",
    "            self._repeat(keras.ops.cast(keras.ops.arange(coord_size[0]), 'float32') * dim1, coord_size[1] * coord_size[2]),\n",
    "            [out_size[0], out_size[1], out_size[2], 1]\n",
    "        )\n",
    "\n",
    "        base_y0 = base + y0_safe * dim2\n",
    "        base_y1 = base + y1_safe * dim2\n",
    "        idx00 = x0_safe + base_y0\n",
    "        idx01 = x0_safe + base_y1\n",
    "        idx10 = x1_safe + base_y0\n",
    "        idx11 = x1_safe + base_y1\n",
    "\n",
    "        ## sample from imgs\n",
    "        im00 = keras.ops.take(imgs, keras.ops.cast(idx00, 'int32'))\n",
    "        im01 = keras.ops.take(imgs, keras.ops.cast(idx01, 'int32'))\n",
    "        im10 = keras.ops.take(imgs, keras.ops.cast(idx10, 'int32'))\n",
    "        im11 = keras.ops.take(imgs, keras.ops.cast(idx11, 'int32'))\n",
    "\n",
    "        w00 = wt_x0 * wt_y0\n",
    "        w01 = wt_x0 * wt_y1\n",
    "        w10 = wt_x1 * wt_y0\n",
    "        w11 = wt_x1 * wt_y1\n",
    "\n",
    "        output = keras.ops.add(\n",
    "            keras.ops.add(w00 * im00, w01 * im01),\n",
    "            keras.ops.add(w10 * im10, w11 * im11)\n",
    "        )\n",
    "\n",
    "        return output"
   ]
  },
  {
   "cell_type": "code",
   "execution_count": 15,
   "metadata": {},
   "outputs": [],
   "source": [
    "bilinear_sampler = BilinearSampler()"
   ]
  },
  {
   "cell_type": "code",
   "execution_count": 16,
   "metadata": {},
   "outputs": [],
   "source": [
    "batch_size = 1\n",
    "imgs = keras.ops.ones((batch_size, 15, 20, 128))\n",
    "coords = keras.ops.ones((batch_size, 15, 20, 2))"
   ]
  },
  {
   "cell_type": "code",
   "execution_count": 17,
   "metadata": {},
   "outputs": [],
   "source": [
    "bilinear_out = bilinear_sampler(imgs, coords)"
   ]
  }
 ],
 "metadata": {
  "kernelspec": {
   "display_name": "venv",
   "language": "python",
   "name": "python3"
  },
  "language_info": {
   "codemirror_mode": {
    "name": "ipython",
    "version": 3
   },
   "file_extension": ".py",
   "mimetype": "text/x-python",
   "name": "python",
   "nbconvert_exporter": "python",
   "pygments_lexer": "ipython3",
   "version": "3.12.3"
  }
 },
 "nbformat": 4,
 "nbformat_minor": 2
}
